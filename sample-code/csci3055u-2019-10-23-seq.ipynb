{
 "cells": [
  {
   "cell_type": "code",
   "execution_count": 1,
   "metadata": {},
   "outputs": [
    {
     "data": {
      "text/plain": [
       "(0 1 2 3 4 5 6 7 8 9)"
      ]
     },
     "execution_count": 1,
     "metadata": {},
     "output_type": "execute_result"
    }
   ],
   "source": [
    "(range 10)"
   ]
  },
  {
   "cell_type": "code",
   "execution_count": 2,
   "metadata": {},
   "outputs": [
    {
     "data": {
      "text/plain": [
       "(5 6 7 8 9)"
      ]
     },
     "execution_count": 2,
     "metadata": {},
     "output_type": "execute_result"
    }
   ],
   "source": [
    "(range 5 10)"
   ]
  },
  {
   "cell_type": "code",
   "execution_count": 3,
   "metadata": {},
   "outputs": [
    {
     "data": {
      "text/plain": [
       "(\"Vote\" \"Vote\" \"Vote\" \"Vote\" \"Vote\" \"Vote\" \"Vote\" \"Vote\" \"Vote\" \"Vote\")"
      ]
     },
     "execution_count": 3,
     "metadata": {},
     "output_type": "execute_result"
    }
   ],
   "source": [
    "(repeat 10 \"Vote\")"
   ]
  },
  {
   "cell_type": "code",
   "execution_count": 4,
   "metadata": {},
   "outputs": [
    {
     "data": {
      "text/plain": [
       "(0 1 2 3 4)"
      ]
     },
     "execution_count": 4,
     "metadata": {},
     "output_type": "execute_result"
    }
   ],
   "source": [
    "(let [lots-of-numbers (range 1000000)]\n",
    "    (take 5 lots-of-numbers))"
   ]
  },
  {
   "cell_type": "code",
   "execution_count": 5,
   "metadata": {},
   "outputs": [
    {
     "data": {
      "text/plain": [
       "(999995 999996 999997 999998 999999)"
      ]
     },
     "execution_count": 5,
     "metadata": {},
     "output_type": "execute_result"
    }
   ],
   "source": [
    "(let [lots-of-numbers (range 1000000)]\n",
    "    (take-last 5 lots-of-numbers))"
   ]
  },
  {
   "cell_type": "code",
   "execution_count": 6,
   "metadata": {},
   "outputs": [
    {
     "data": {
      "text/plain": [
       "0"
      ]
     },
     "execution_count": 6,
     "metadata": {},
     "output_type": "execute_result"
    }
   ],
   "source": [
    "(let [lots-of-numbers (range 1E6)]\n",
    "    (first lots-of-numbers))"
   ]
  },
  {
   "cell_type": "code",
   "execution_count": 7,
   "metadata": {},
   "outputs": [
    {
     "data": {
      "text/plain": [
       "(0)"
      ]
     },
     "execution_count": 7,
     "metadata": {},
     "output_type": "execute_result"
    }
   ],
   "source": [
    "(let [lots-of-numbers (range 1E6)]\n",
    "    (take 1 lots-of-numbers))"
   ]
  },
  {
   "cell_type": "code",
   "execution_count": 8,
   "metadata": {},
   "outputs": [
    {
     "data": {
      "text/plain": [
       ":c"
      ]
     },
     "execution_count": 8,
     "metadata": {},
     "output_type": "execute_result"
    }
   ],
   "source": [
    "(let [s [:a :b :c :d]]\n",
    "    (nth s 2))"
   ]
  },
  {
   "cell_type": "code",
   "execution_count": 9,
   "metadata": {},
   "outputs": [
    {
     "data": {
      "text/plain": [
       "(0 1 2 3 4 5 6 7 8 9)"
      ]
     },
     "execution_count": 9,
     "metadata": {},
     "output_type": "execute_result"
    }
   ],
   "source": [
    "(let [lots-of-numbers (iterate inc 0)]\n",
    "    (take 10 lots-of-numbers))"
   ]
  },
  {
   "cell_type": "code",
   "execution_count": 10,
   "metadata": {},
   "outputs": [
    {
     "data": {
      "text/plain": [
       "#'user/double-then-add"
      ]
     },
     "execution_count": 10,
     "metadata": {},
     "output_type": "execute_result"
    }
   ],
   "source": [
    "(defn double-then-add [x]\n",
    "    (+ 100 (* 2 x)))"
   ]
  },
  {
   "cell_type": "code",
   "execution_count": 12,
   "metadata": {},
   "outputs": [
    {
     "data": {
      "text/plain": [
       "(-10 80 260 620 1340 2780 5660 11420 22940 45980)"
      ]
     },
     "execution_count": 12,
     "metadata": {},
     "output_type": "execute_result"
    }
   ],
   "source": [
    "(let [lots-of-numbers (iterate double-then-add -10)]\n",
    "    (take 10 lots-of-numbers))"
   ]
  },
  {
   "cell_type": "code",
   "execution_count": 16,
   "metadata": {},
   "outputs": [
    {
     "data": {
      "text/plain": [
       "(1M 2M 4M 8M 16M 32M 64M 128M 256M 512M 1024M 2048M 4096M 8192M 16384M 32768M 65536M 131072M 262144M 524288M 1048576M 2097152M 4194304M 8388608M 16777216M 33554432M 67108864M 134217728M 268435456M 536870912M 1073741824M 2147483648M 4294967296M 8589934592M 17179869184M 34359738368M 68719476736M 137438953472M 274877906944M 549755813888M 1099511627776M 2199023255552M 4398046511104M 8796093022208M 17592186044416M 35184372088832M 70368744177664M 140737488355328M 281474976710656M 562949953421312M 1125899906842624M 2251799813685248M 4503599627370496M 9007199254740992M 18014398509481984M 36028797018963968M 72057594037927936M 144115188075855872M 288230376151711744M 576460752303423488M 1152921504606846976M 2305843009213693952M 4611686018427387904M 9223372036854775808M 18446744073709551616M 36893488147419103232M 73786976294838206464M 147573952589676412928M 295147905179352825856M 590295810358705651712M 1180591620717411303424M 2361183241434822606848M 4722366482869645213696M 9444732965739290427392M 18889465931478580854784M 37778931862957161709568M 75557863725914323419136M 151115727451828646838272M 302231454903657293676544M 604462909807314587353088M 1208925819614629174706176M 2417851639229258349412352M 4835703278458516698824704M 9671406556917033397649408M 19342813113834066795298816M 38685626227668133590597632M 77371252455336267181195264M 154742504910672534362390528M 309485009821345068724781056M 618970019642690137449562112M 1237940039285380274899124224M 2475880078570760549798248448M 4951760157141521099596496896M 9903520314283042199192993792M 19807040628566084398385987584M 39614081257132168796771975168M 79228162514264337593543950336M 158456325028528675187087900672M 316912650057057350374175801344M 633825300114114700748351602688M)"
      ]
     },
     "execution_count": 16,
     "metadata": {},
     "output_type": "execute_result"
    }
   ],
   "source": [
    "(let [powers-of-2 (iterate #(* 2 %1) 1M)]\n",
    "    (take 100 powers-of-2))"
   ]
  },
  {
   "cell_type": "code",
   "execution_count": 18,
   "metadata": {},
   "outputs": [
    {
     "data": {
      "text/plain": [
       "(:a :b :c \"|\" :a :b :c \"|\" :a :b)"
      ]
     },
     "execution_count": 18,
     "metadata": {},
     "output_type": "execute_result"
    }
   ],
   "source": [
    "(take 10 (cycle [:a :b :c \"|\"]))"
   ]
  },
  {
   "cell_type": "code",
   "execution_count": 20,
   "metadata": {},
   "outputs": [
    {
     "data": {
      "text/plain": [
       "(0 \",\" 1 \",\" 2 \",\" 3 \",\" 4 \",\" 5 \",\" 6 \",\" 7 \",\" 8 \",\" 9)"
      ]
     },
     "execution_count": 20,
     "metadata": {},
     "output_type": "execute_result"
    }
   ],
   "source": [
    "(interpose \",\" (range 10))"
   ]
  },
  {
   "cell_type": "code",
   "execution_count": 21,
   "metadata": {},
   "outputs": [
    {
     "data": {
      "text/plain": [
       "(\\a 0 \\b 1 \\c 2 \\d 3 \\e 4 \\f 5 \\g 6 \\h 7 \\i 8 \\j 9)"
      ]
     },
     "execution_count": 21,
     "metadata": {},
     "output_type": "execute_result"
    }
   ],
   "source": [
    "(interleave \"abcdefghijklmnopqrstuvwxyz\" (range 10))"
   ]
  },
  {
   "cell_type": "code",
   "execution_count": 22,
   "metadata": {},
   "outputs": [
    {
     "data": {
      "text/plain": [
       "(\\a 0 \\b 1 \\c 2 \\d 3 \\e 4 \\f 5 \\g 6 \\h 7 \\i 8 \\j 9 \\k 10 \\l 11 \\m 12 \\n 13 \\o 14 \\p 15 \\q 16 \\r 17 \\s 18 \\t 19 \\u 20 \\v 21 \\w 22 \\x 23 \\y 24 \\z 25)"
      ]
     },
     "execution_count": 22,
     "metadata": {},
     "output_type": "execute_result"
    }
   ],
   "source": [
    "(interleave \"abcdefghijklmnopqrstuvwxyz\" (range 100))"
   ]
  },
  {
   "cell_type": "code",
   "execution_count": 23,
   "metadata": {},
   "outputs": [
    {
     "data": {
      "text/plain": [
       "(\\a 0 \\b 1 \\c 2 \\d 3 \\e 4 \\f 5 \\g 6 \\h 7 \\i 8 \\j 9 \\k -1 \\l -1 \\m -1 \\n -1 \\o -1 \\p -1 \\q -1 \\r -1 \\s -1 \\t -1 \\u -1 \\v -1 \\w -1 \\x -1 \\y -1 \\z -1)"
      ]
     },
     "execution_count": 23,
     "metadata": {},
     "output_type": "execute_result"
    }
   ],
   "source": [
    "(interleave \"abcdefghijklmnopqrstuvwxyz\" (concat (range 10) (repeat -1)))"
   ]
  },
  {
   "cell_type": "code",
   "execution_count": null,
   "metadata": {},
   "outputs": [],
   "source": []
  }
 ],
 "metadata": {
  "kernelspec": {
   "display_name": "Clojure (clojupyter-0.2.3)",
   "language": "clojure",
   "name": "clojupyter-0.2.3"
  },
  "language_info": {
   "file_extension": ".clj",
   "mimetype": "text/x-clojure",
   "name": "clojure",
   "version": "1.10.1"
  }
 },
 "nbformat": 4,
 "nbformat_minor": 2
}
